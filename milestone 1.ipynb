{
 "cells": [
  {
   "cell_type": "code",
   "execution_count": 5,
   "metadata": {},
   "outputs": [],
   "source": [
    "import pandas as pd\n",
    "import numpy as np\n",
    "import matplotlib.pyplot as plt\n",
    "import seaborn as sns\n",
    "%matplotlib inline"
   ]
  },
  {
   "cell_type": "code",
   "execution_count": 6,
   "metadata": {},
   "outputs": [
    {
     "data": {
      "text/html": [
       "<div>\n",
       "<style scoped>\n",
       "    .dataframe tbody tr th:only-of-type {\n",
       "        vertical-align: middle;\n",
       "    }\n",
       "\n",
       "    .dataframe tbody tr th {\n",
       "        vertical-align: top;\n",
       "    }\n",
       "\n",
       "    .dataframe thead th {\n",
       "        text-align: right;\n",
       "    }\n",
       "</style>\n",
       "<table border=\"1\" class=\"dataframe\">\n",
       "  <thead>\n",
       "    <tr style=\"text-align: right;\">\n",
       "      <th></th>\n",
       "      <th>business_code</th>\n",
       "      <th>cust_number</th>\n",
       "      <th>name_customer</th>\n",
       "      <th>clear_date</th>\n",
       "      <th>buisness_year</th>\n",
       "      <th>doc_id</th>\n",
       "      <th>posting_date</th>\n",
       "      <th>document_create_date</th>\n",
       "      <th>document_create_date.1</th>\n",
       "      <th>due_in_date</th>\n",
       "      <th>invoice_currency</th>\n",
       "      <th>document type</th>\n",
       "      <th>posting_id</th>\n",
       "      <th>area_business</th>\n",
       "      <th>total_open_amount</th>\n",
       "      <th>baseline_create_date</th>\n",
       "      <th>cust_payment_terms</th>\n",
       "      <th>invoice_id</th>\n",
       "      <th>isOpen</th>\n",
       "    </tr>\n",
       "  </thead>\n",
       "  <tbody>\n",
       "    <tr>\n",
       "      <th>0</th>\n",
       "      <td>U001</td>\n",
       "      <td>0200726979</td>\n",
       "      <td>BJ'S  in</td>\n",
       "      <td>2019-06-06 00:00:00</td>\n",
       "      <td>2019.0</td>\n",
       "      <td>1.929345e+09</td>\n",
       "      <td>2019-05-20</td>\n",
       "      <td>20190520</td>\n",
       "      <td>20190520</td>\n",
       "      <td>20190604.0</td>\n",
       "      <td>USD</td>\n",
       "      <td>RV</td>\n",
       "      <td>1.0</td>\n",
       "      <td>NaN</td>\n",
       "      <td>13950.27</td>\n",
       "      <td>20190520.0</td>\n",
       "      <td>NAA8</td>\n",
       "      <td>1.929345e+09</td>\n",
       "      <td>0</td>\n",
       "    </tr>\n",
       "    <tr>\n",
       "      <th>1</th>\n",
       "      <td>U001</td>\n",
       "      <td>0200769623</td>\n",
       "      <td>WAL-MAR in</td>\n",
       "      <td>2019-04-24 00:00:00</td>\n",
       "      <td>2019.0</td>\n",
       "      <td>1.929142e+09</td>\n",
       "      <td>2019-04-14</td>\n",
       "      <td>20190413</td>\n",
       "      <td>20190414</td>\n",
       "      <td>20190429.0</td>\n",
       "      <td>USD</td>\n",
       "      <td>RV</td>\n",
       "      <td>1.0</td>\n",
       "      <td>NaN</td>\n",
       "      <td>15110.10</td>\n",
       "      <td>20190414.0</td>\n",
       "      <td>NAH4</td>\n",
       "      <td>1.929142e+09</td>\n",
       "      <td>0</td>\n",
       "    </tr>\n",
       "    <tr>\n",
       "      <th>2</th>\n",
       "      <td>U001</td>\n",
       "      <td>200769623</td>\n",
       "      <td>WAL-MAR systems</td>\n",
       "      <td>2019-02-26 00:00:00</td>\n",
       "      <td>2019.0</td>\n",
       "      <td>1.928730e+09</td>\n",
       "      <td>2019-02-05</td>\n",
       "      <td>20190203</td>\n",
       "      <td>20190205</td>\n",
       "      <td>20190220.0</td>\n",
       "      <td>USD</td>\n",
       "      <td>RV</td>\n",
       "      <td>1.0</td>\n",
       "      <td>NaN</td>\n",
       "      <td>10998.31</td>\n",
       "      <td>20190205.0</td>\n",
       "      <td>NAH4</td>\n",
       "      <td>1.928730e+09</td>\n",
       "      <td>0</td>\n",
       "    </tr>\n",
       "    <tr>\n",
       "      <th>3</th>\n",
       "      <td>U001</td>\n",
       "      <td>0200761734</td>\n",
       "      <td>H E BUT co</td>\n",
       "      <td>2019-05-22 00:00:00</td>\n",
       "      <td>2019.0</td>\n",
       "      <td>1.929287e+09</td>\n",
       "      <td>2019-05-09</td>\n",
       "      <td>20190509</td>\n",
       "      <td>20190509</td>\n",
       "      <td>20190524.0</td>\n",
       "      <td>USD</td>\n",
       "      <td>RV</td>\n",
       "      <td>1.0</td>\n",
       "      <td>NaN</td>\n",
       "      <td>15488.32</td>\n",
       "      <td>20190509.0</td>\n",
       "      <td>NAA8</td>\n",
       "      <td>1.929287e+09</td>\n",
       "      <td>0</td>\n",
       "    </tr>\n",
       "    <tr>\n",
       "      <th>4</th>\n",
       "      <td>U001</td>\n",
       "      <td>0200772595</td>\n",
       "      <td>SAFEW</td>\n",
       "      <td>2019-04-04 00:00:00</td>\n",
       "      <td>2019.0</td>\n",
       "      <td>1.928961e+09</td>\n",
       "      <td>2019-03-20</td>\n",
       "      <td>20190314</td>\n",
       "      <td>20190320</td>\n",
       "      <td>20190404.0</td>\n",
       "      <td>USD</td>\n",
       "      <td>RV</td>\n",
       "      <td>1.0</td>\n",
       "      <td>NaN</td>\n",
       "      <td>1031.62</td>\n",
       "      <td>20190320.0</td>\n",
       "      <td>NAA8</td>\n",
       "      <td>1.928961e+09</td>\n",
       "      <td>0</td>\n",
       "    </tr>\n",
       "  </tbody>\n",
       "</table>\n",
       "</div>"
      ],
      "text/plain": [
       "  business_code cust_number    name_customer           clear_date  \\\n",
       "0          U001  0200726979         BJ'S  in  2019-06-06 00:00:00   \n",
       "1          U001  0200769623       WAL-MAR in  2019-04-24 00:00:00   \n",
       "2          U001   200769623  WAL-MAR systems  2019-02-26 00:00:00   \n",
       "3          U001  0200761734       H E BUT co  2019-05-22 00:00:00   \n",
       "4          U001  0200772595           SAFEW   2019-04-04 00:00:00   \n",
       "\n",
       "   buisness_year        doc_id posting_date  document_create_date  \\\n",
       "0         2019.0  1.929345e+09   2019-05-20              20190520   \n",
       "1         2019.0  1.929142e+09   2019-04-14              20190413   \n",
       "2         2019.0  1.928730e+09   2019-02-05              20190203   \n",
       "3         2019.0  1.929287e+09   2019-05-09              20190509   \n",
       "4         2019.0  1.928961e+09   2019-03-20              20190314   \n",
       "\n",
       "   document_create_date.1  due_in_date invoice_currency document type  \\\n",
       "0                20190520   20190604.0              USD            RV   \n",
       "1                20190414   20190429.0              USD            RV   \n",
       "2                20190205   20190220.0              USD            RV   \n",
       "3                20190509   20190524.0              USD            RV   \n",
       "4                20190320   20190404.0              USD            RV   \n",
       "\n",
       "   posting_id  area_business  total_open_amount  baseline_create_date  \\\n",
       "0         1.0            NaN           13950.27            20190520.0   \n",
       "1         1.0            NaN           15110.10            20190414.0   \n",
       "2         1.0            NaN           10998.31            20190205.0   \n",
       "3         1.0            NaN           15488.32            20190509.0   \n",
       "4         1.0            NaN            1031.62            20190320.0   \n",
       "\n",
       "  cust_payment_terms    invoice_id  isOpen  \n",
       "0               NAA8  1.929345e+09       0  \n",
       "1               NAH4  1.929142e+09       0  \n",
       "2               NAH4  1.928730e+09       0  \n",
       "3               NAA8  1.929287e+09       0  \n",
       "4               NAA8  1.928961e+09       0  "
      ]
     },
     "execution_count": 6,
     "metadata": {},
     "output_type": "execute_result"
    }
   ],
   "source": [
    "data=pd.read_csv(r\"C:\\Users\\KIIT\\Desktop\\HRC\\Buiness DataSet.csv\")\n",
    "df=pd.DataFrame(data)\n",
    "df.head()"
   ]
  },
  {
   "cell_type": "code",
   "execution_count": 7,
   "metadata": {},
   "outputs": [],
   "source": [
    "df['baseline_create_date'] = pd.to_datetime(df['baseline_create_date'], format='%Y%m%d')\n",
    "df = df.sort_values(by=\"baseline_create_date\")"
   ]
  },
  {
   "cell_type": "code",
   "execution_count": 8,
   "metadata": {},
   "outputs": [
    {
     "data": {
      "text/plain": [
       "Index(['business_code', 'cust_number', 'name_customer', 'clear_date',\n",
       "       'buisness_year', 'doc_id', 'posting_date', 'document_create_date',\n",
       "       'document_create_date.1', 'due_in_date', 'invoice_currency',\n",
       "       'document type', 'posting_id', 'area_business', 'total_open_amount',\n",
       "       'baseline_create_date', 'cust_payment_terms', 'invoice_id', 'isOpen'],\n",
       "      dtype='object')"
      ]
     },
     "execution_count": 8,
     "metadata": {},
     "output_type": "execute_result"
    }
   ],
   "source": [
    "df.columns"
   ]
  },
  {
   "cell_type": "code",
   "execution_count": 9,
   "metadata": {},
   "outputs": [],
   "source": [
    "df_temp = pd.read_csv(r\"C:\\Users\\KIIT\\Desktop\\HRC\\Buiness DataSet.csv\")\n",
    "# Creating a temporary copy of the dataset"
   ]
  },
  {
   "cell_type": "code",
   "execution_count": 10,
   "metadata": {},
   "outputs": [
    {
     "data": {
      "text/html": [
       "<div>\n",
       "<style scoped>\n",
       "    .dataframe tbody tr th:only-of-type {\n",
       "        vertical-align: middle;\n",
       "    }\n",
       "\n",
       "    .dataframe tbody tr th {\n",
       "        vertical-align: top;\n",
       "    }\n",
       "\n",
       "    .dataframe thead th {\n",
       "        text-align: right;\n",
       "    }\n",
       "</style>\n",
       "<table border=\"1\" class=\"dataframe\">\n",
       "  <thead>\n",
       "    <tr style=\"text-align: right;\">\n",
       "      <th></th>\n",
       "      <th>business_code</th>\n",
       "      <th>cust_number</th>\n",
       "      <th>name_customer</th>\n",
       "      <th>clear_date</th>\n",
       "      <th>buisness_year</th>\n",
       "      <th>doc_id</th>\n",
       "      <th>posting_date</th>\n",
       "      <th>document_create_date</th>\n",
       "      <th>document_create_date.1</th>\n",
       "      <th>due_in_date</th>\n",
       "      <th>invoice_currency</th>\n",
       "      <th>document type</th>\n",
       "      <th>posting_id</th>\n",
       "      <th>area_business</th>\n",
       "      <th>total_open_amount</th>\n",
       "      <th>baseline_create_date</th>\n",
       "      <th>cust_payment_terms</th>\n",
       "      <th>invoice_id</th>\n",
       "      <th>isOpen</th>\n",
       "    </tr>\n",
       "  </thead>\n",
       "  <tbody>\n",
       "  </tbody>\n",
       "</table>\n",
       "</div>"
      ],
      "text/plain": [
       "Empty DataFrame\n",
       "Columns: [business_code, cust_number, name_customer, clear_date, buisness_year, doc_id, posting_date, document_create_date, document_create_date.1, due_in_date, invoice_currency, document type, posting_id, area_business, total_open_amount, baseline_create_date, cust_payment_terms, invoice_id, isOpen]\n",
       "Index: []"
      ]
     },
     "execution_count": 10,
     "metadata": {},
     "output_type": "execute_result"
    }
   ],
   "source": [
    "duplicate = df[df.duplicated()]\n",
    "duplicate"
   ]
  },
  {
   "cell_type": "markdown",
   "metadata": {},
   "source": [
    "# Data Preprocessing"
   ]
  },
  {
   "cell_type": "code",
   "execution_count": 11,
   "metadata": {},
   "outputs": [
    {
     "name": "stdout",
     "output_type": "stream",
     "text": [
      "Num columns droped: 1\n",
      "Index(['business_code', 'cust_number', 'name_customer', 'clear_date',\n",
      "       'buisness_year', 'doc_id', 'posting_date', 'document_create_date',\n",
      "       'document_create_date.1', 'due_in_date', 'invoice_currency',\n",
      "       'document type', 'posting_id', 'total_open_amount',\n",
      "       'baseline_create_date', 'cust_payment_terms', 'invoice_id', 'isOpen'],\n",
      "      dtype='object') (50000, 18)\n"
     ]
    }
   ],
   "source": [
    "# droping completely null columns\n",
    "\n",
    "count = 0\n",
    "for col in df.columns:\n",
    "    if df[col].isnull().sum() == df.shape[0]:\n",
    "        count += 1\n",
    "        df.drop(col, axis=1, inplace=True)\n",
    "        \n",
    "print(\"Num columns droped:\", count)\n",
    "\n",
    "print(df.columns, df.shape)"
   ]
  },
  {
   "cell_type": "code",
   "execution_count": 12,
   "metadata": {},
   "outputs": [
    {
     "name": "stderr",
     "output_type": "stream",
     "text": [
      "<ipython-input-12-feb2a588628a>:3: SettingWithCopyWarning: \n",
      "A value is trying to be set on a copy of a slice from a DataFrame\n",
      "\n",
      "See the caveats in the documentation: https://pandas.pydata.org/pandas-docs/stable/user_guide/indexing.html#returning-a-view-versus-a-copy\n",
      "  df['cust_number'][i]=123\n"
     ]
    }
   ],
   "source": [
    "for i in range(len(df['cust_number'])):\n",
    "    if \"CC\" in df['cust_number'][i]:\n",
    "        df['cust_number'][i]=123\n",
    "    "
   ]
  },
  {
   "cell_type": "code",
   "execution_count": 13,
   "metadata": {
    "scrolled": true
   },
   "outputs": [
    {
     "name": "stdout",
     "output_type": "stream",
     "text": [
      "Num constant features removed: 1\n",
      "Index(['business_code', 'cust_number', 'name_customer', 'clear_date',\n",
      "       'buisness_year', 'doc_id', 'posting_date', 'document_create_date',\n",
      "       'document_create_date.1', 'due_in_date', 'invoice_currency',\n",
      "       'document type', 'total_open_amount', 'baseline_create_date',\n",
      "       'cust_payment_terms', 'invoice_id', 'isOpen'],\n",
      "      dtype='object') 17\n"
     ]
    },
    {
     "data": {
      "text/html": [
       "<div>\n",
       "<style scoped>\n",
       "    .dataframe tbody tr th:only-of-type {\n",
       "        vertical-align: middle;\n",
       "    }\n",
       "\n",
       "    .dataframe tbody tr th {\n",
       "        vertical-align: top;\n",
       "    }\n",
       "\n",
       "    .dataframe thead th {\n",
       "        text-align: right;\n",
       "    }\n",
       "</style>\n",
       "<table border=\"1\" class=\"dataframe\">\n",
       "  <thead>\n",
       "    <tr style=\"text-align: right;\">\n",
       "      <th></th>\n",
       "      <th>business_code</th>\n",
       "      <th>cust_number</th>\n",
       "      <th>name_customer</th>\n",
       "      <th>clear_date</th>\n",
       "      <th>buisness_year</th>\n",
       "      <th>doc_id</th>\n",
       "      <th>posting_date</th>\n",
       "      <th>document_create_date</th>\n",
       "      <th>document_create_date.1</th>\n",
       "      <th>due_in_date</th>\n",
       "      <th>invoice_currency</th>\n",
       "      <th>document type</th>\n",
       "      <th>total_open_amount</th>\n",
       "      <th>baseline_create_date</th>\n",
       "      <th>cust_payment_terms</th>\n",
       "      <th>invoice_id</th>\n",
       "      <th>isOpen</th>\n",
       "    </tr>\n",
       "  </thead>\n",
       "  <tbody>\n",
       "    <tr>\n",
       "      <th>8181</th>\n",
       "      <td>CA02</td>\n",
       "      <td>0140104429</td>\n",
       "      <td>COSTCO llc</td>\n",
       "      <td>2019-02-20 00:00:00</td>\n",
       "      <td>2019.0</td>\n",
       "      <td>2.960521e+09</td>\n",
       "      <td>2019-01-10</td>\n",
       "      <td>20190110</td>\n",
       "      <td>20190110</td>\n",
       "      <td>20190106.0</td>\n",
       "      <td>CAD</td>\n",
       "      <td>RV</td>\n",
       "      <td>8574.72</td>\n",
       "      <td>2018-12-27</td>\n",
       "      <td>CA10</td>\n",
       "      <td>2.960521e+09</td>\n",
       "      <td>0</td>\n",
       "    </tr>\n",
       "    <tr>\n",
       "      <th>10318</th>\n",
       "      <td>U001</td>\n",
       "      <td>0200769623</td>\n",
       "      <td>WAL-MAR</td>\n",
       "      <td>2019-01-09 00:00:00</td>\n",
       "      <td>2019.0</td>\n",
       "      <td>1.928541e+09</td>\n",
       "      <td>2018-12-30</td>\n",
       "      <td>20181229</td>\n",
       "      <td>20181230</td>\n",
       "      <td>20190114.0</td>\n",
       "      <td>USD</td>\n",
       "      <td>RV</td>\n",
       "      <td>56249.14</td>\n",
       "      <td>2018-12-30</td>\n",
       "      <td>NAH4</td>\n",
       "      <td>1.928541e+09</td>\n",
       "      <td>0</td>\n",
       "    </tr>\n",
       "    <tr>\n",
       "      <th>40595</th>\n",
       "      <td>U001</td>\n",
       "      <td>0200726979</td>\n",
       "      <td>BJ'S  llc</td>\n",
       "      <td>2019-01-15 00:00:00</td>\n",
       "      <td>2019.0</td>\n",
       "      <td>1.928540e+09</td>\n",
       "      <td>2018-12-30</td>\n",
       "      <td>20181229</td>\n",
       "      <td>20181230</td>\n",
       "      <td>20190114.0</td>\n",
       "      <td>USD</td>\n",
       "      <td>RV</td>\n",
       "      <td>137.84</td>\n",
       "      <td>2018-12-30</td>\n",
       "      <td>NAA8</td>\n",
       "      <td>1.928540e+09</td>\n",
       "      <td>0</td>\n",
       "    </tr>\n",
       "    <tr>\n",
       "      <th>23364</th>\n",
       "      <td>U001</td>\n",
       "      <td>0200769623</td>\n",
       "      <td>WAL-MAR corporation</td>\n",
       "      <td>2019-01-09 00:00:00</td>\n",
       "      <td>2019.0</td>\n",
       "      <td>1.928541e+09</td>\n",
       "      <td>2018-12-30</td>\n",
       "      <td>20181229</td>\n",
       "      <td>20181230</td>\n",
       "      <td>20190114.0</td>\n",
       "      <td>USD</td>\n",
       "      <td>RV</td>\n",
       "      <td>529.40</td>\n",
       "      <td>2018-12-30</td>\n",
       "      <td>NAH4</td>\n",
       "      <td>1.928541e+09</td>\n",
       "      <td>0</td>\n",
       "    </tr>\n",
       "    <tr>\n",
       "      <th>42890</th>\n",
       "      <td>U001</td>\n",
       "      <td>0200762301</td>\n",
       "      <td>C&amp;S WH corporation</td>\n",
       "      <td>2019-01-15 00:00:00</td>\n",
       "      <td>2019.0</td>\n",
       "      <td>1.928540e+09</td>\n",
       "      <td>2018-12-30</td>\n",
       "      <td>20181229</td>\n",
       "      <td>20181230</td>\n",
       "      <td>20190114.0</td>\n",
       "      <td>USD</td>\n",
       "      <td>RV</td>\n",
       "      <td>3211.78</td>\n",
       "      <td>2018-12-30</td>\n",
       "      <td>NAC6</td>\n",
       "      <td>1.928540e+09</td>\n",
       "      <td>0</td>\n",
       "    </tr>\n",
       "    <tr>\n",
       "      <th>23372</th>\n",
       "      <td>U001</td>\n",
       "      <td>0200769623</td>\n",
       "      <td>WAL-MAR foundation</td>\n",
       "      <td>2019-01-10 00:00:00</td>\n",
       "      <td>2019.0</td>\n",
       "      <td>1.928543e+09</td>\n",
       "      <td>2018-12-30</td>\n",
       "      <td>20181230</td>\n",
       "      <td>20181230</td>\n",
       "      <td>20190114.0</td>\n",
       "      <td>USD</td>\n",
       "      <td>RV</td>\n",
       "      <td>31888.79</td>\n",
       "      <td>2018-12-30</td>\n",
       "      <td>NAH4</td>\n",
       "      <td>1.928543e+09</td>\n",
       "      <td>0</td>\n",
       "    </tr>\n",
       "    <tr>\n",
       "      <th>45017</th>\n",
       "      <td>U001</td>\n",
       "      <td>0200769623</td>\n",
       "      <td>WAL-MAR foundation</td>\n",
       "      <td>2019-01-15 00:00:00</td>\n",
       "      <td>2019.0</td>\n",
       "      <td>1.928540e+09</td>\n",
       "      <td>2018-12-30</td>\n",
       "      <td>20181229</td>\n",
       "      <td>20181230</td>\n",
       "      <td>20190114.0</td>\n",
       "      <td>USD</td>\n",
       "      <td>RV</td>\n",
       "      <td>5154.91</td>\n",
       "      <td>2018-12-30</td>\n",
       "      <td>NAH4</td>\n",
       "      <td>1.928540e+09</td>\n",
       "      <td>0</td>\n",
       "    </tr>\n",
       "    <tr>\n",
       "      <th>34568</th>\n",
       "      <td>U001</td>\n",
       "      <td>0200769623</td>\n",
       "      <td>WAL-MAR</td>\n",
       "      <td>2019-01-10 00:00:00</td>\n",
       "      <td>2019.0</td>\n",
       "      <td>1.928543e+09</td>\n",
       "      <td>2018-12-30</td>\n",
       "      <td>20181230</td>\n",
       "      <td>20181230</td>\n",
       "      <td>20190114.0</td>\n",
       "      <td>USD</td>\n",
       "      <td>RV</td>\n",
       "      <td>69358.17</td>\n",
       "      <td>2018-12-30</td>\n",
       "      <td>NAH4</td>\n",
       "      <td>1.928543e+09</td>\n",
       "      <td>0</td>\n",
       "    </tr>\n",
       "    <tr>\n",
       "      <th>5220</th>\n",
       "      <td>U001</td>\n",
       "      <td>0200799367</td>\n",
       "      <td>MCL in</td>\n",
       "      <td>2019-01-16 00:00:00</td>\n",
       "      <td>2019.0</td>\n",
       "      <td>1.928540e+09</td>\n",
       "      <td>2018-12-30</td>\n",
       "      <td>20181229</td>\n",
       "      <td>20181230</td>\n",
       "      <td>20190114.0</td>\n",
       "      <td>USD</td>\n",
       "      <td>RV</td>\n",
       "      <td>51909.05</td>\n",
       "      <td>2018-12-30</td>\n",
       "      <td>NAA8</td>\n",
       "      <td>1.928540e+09</td>\n",
       "      <td>0</td>\n",
       "    </tr>\n",
       "    <tr>\n",
       "      <th>18895</th>\n",
       "      <td>U001</td>\n",
       "      <td>0200707005</td>\n",
       "      <td>KING S llc</td>\n",
       "      <td>2019-01-14 00:00:00</td>\n",
       "      <td>2019.0</td>\n",
       "      <td>1.928533e+09</td>\n",
       "      <td>2018-12-30</td>\n",
       "      <td>20181229</td>\n",
       "      <td>20181230</td>\n",
       "      <td>20190114.0</td>\n",
       "      <td>USD</td>\n",
       "      <td>RV</td>\n",
       "      <td>17046.59</td>\n",
       "      <td>2018-12-30</td>\n",
       "      <td>NAA8</td>\n",
       "      <td>1.928533e+09</td>\n",
       "      <td>0</td>\n",
       "    </tr>\n",
       "  </tbody>\n",
       "</table>\n",
       "</div>"
      ],
      "text/plain": [
       "      business_code cust_number        name_customer           clear_date  \\\n",
       "8181           CA02  0140104429           COSTCO llc  2019-02-20 00:00:00   \n",
       "10318          U001  0200769623             WAL-MAR   2019-01-09 00:00:00   \n",
       "40595          U001  0200726979            BJ'S  llc  2019-01-15 00:00:00   \n",
       "23364          U001  0200769623  WAL-MAR corporation  2019-01-09 00:00:00   \n",
       "42890          U001  0200762301   C&S WH corporation  2019-01-15 00:00:00   \n",
       "23372          U001  0200769623   WAL-MAR foundation  2019-01-10 00:00:00   \n",
       "45017          U001  0200769623   WAL-MAR foundation  2019-01-15 00:00:00   \n",
       "34568          U001  0200769623             WAL-MAR   2019-01-10 00:00:00   \n",
       "5220           U001  0200799367               MCL in  2019-01-16 00:00:00   \n",
       "18895          U001  0200707005           KING S llc  2019-01-14 00:00:00   \n",
       "\n",
       "       buisness_year        doc_id posting_date  document_create_date  \\\n",
       "8181          2019.0  2.960521e+09   2019-01-10              20190110   \n",
       "10318         2019.0  1.928541e+09   2018-12-30              20181229   \n",
       "40595         2019.0  1.928540e+09   2018-12-30              20181229   \n",
       "23364         2019.0  1.928541e+09   2018-12-30              20181229   \n",
       "42890         2019.0  1.928540e+09   2018-12-30              20181229   \n",
       "23372         2019.0  1.928543e+09   2018-12-30              20181230   \n",
       "45017         2019.0  1.928540e+09   2018-12-30              20181229   \n",
       "34568         2019.0  1.928543e+09   2018-12-30              20181230   \n",
       "5220          2019.0  1.928540e+09   2018-12-30              20181229   \n",
       "18895         2019.0  1.928533e+09   2018-12-30              20181229   \n",
       "\n",
       "       document_create_date.1  due_in_date invoice_currency document type  \\\n",
       "8181                 20190110   20190106.0              CAD            RV   \n",
       "10318                20181230   20190114.0              USD            RV   \n",
       "40595                20181230   20190114.0              USD            RV   \n",
       "23364                20181230   20190114.0              USD            RV   \n",
       "42890                20181230   20190114.0              USD            RV   \n",
       "23372                20181230   20190114.0              USD            RV   \n",
       "45017                20181230   20190114.0              USD            RV   \n",
       "34568                20181230   20190114.0              USD            RV   \n",
       "5220                 20181230   20190114.0              USD            RV   \n",
       "18895                20181230   20190114.0              USD            RV   \n",
       "\n",
       "       total_open_amount baseline_create_date cust_payment_terms  \\\n",
       "8181             8574.72           2018-12-27               CA10   \n",
       "10318           56249.14           2018-12-30               NAH4   \n",
       "40595             137.84           2018-12-30               NAA8   \n",
       "23364             529.40           2018-12-30               NAH4   \n",
       "42890            3211.78           2018-12-30               NAC6   \n",
       "23372           31888.79           2018-12-30               NAH4   \n",
       "45017            5154.91           2018-12-30               NAH4   \n",
       "34568           69358.17           2018-12-30               NAH4   \n",
       "5220            51909.05           2018-12-30               NAA8   \n",
       "18895           17046.59           2018-12-30               NAA8   \n",
       "\n",
       "         invoice_id  isOpen  \n",
       "8181   2.960521e+09       0  \n",
       "10318  1.928541e+09       0  \n",
       "40595  1.928540e+09       0  \n",
       "23364  1.928541e+09       0  \n",
       "42890  1.928540e+09       0  \n",
       "23372  1.928543e+09       0  \n",
       "45017  1.928540e+09       0  \n",
       "34568  1.928543e+09       0  \n",
       "5220   1.928540e+09       0  \n",
       "18895  1.928533e+09       0  "
      ]
     },
     "execution_count": 13,
     "metadata": {},
     "output_type": "execute_result"
    }
   ],
   "source": [
    "# Remove the constant features\n",
    "count = 0\n",
    "unit_col = []\n",
    "for col in df.columns:\n",
    "    if df[col].nunique() == 1:\n",
    "        count += 1\n",
    "        unit_col.append(col)\n",
    "df.drop(unit_col, axis=1, inplace=True)\n",
    "\n",
    "print(\"Num constant features removed:\", count)\n",
    "print(df.columns, len(df.columns))\n",
    "df.head(10)"
   ]
  },
  {
   "cell_type": "code",
   "execution_count": 14,
   "metadata": {},
   "outputs": [
    {
     "data": {
      "text/html": [
       "<div>\n",
       "<style scoped>\n",
       "    .dataframe tbody tr th:only-of-type {\n",
       "        vertical-align: middle;\n",
       "    }\n",
       "\n",
       "    .dataframe tbody tr th {\n",
       "        vertical-align: top;\n",
       "    }\n",
       "\n",
       "    .dataframe thead th {\n",
       "        text-align: right;\n",
       "    }\n",
       "</style>\n",
       "<table border=\"1\" class=\"dataframe\">\n",
       "  <thead>\n",
       "    <tr style=\"text-align: right;\">\n",
       "      <th></th>\n",
       "      <th>business_code</th>\n",
       "      <th>cust_number</th>\n",
       "      <th>name_customer</th>\n",
       "      <th>clear_date</th>\n",
       "      <th>buisness_year</th>\n",
       "      <th>doc_id</th>\n",
       "      <th>posting_date</th>\n",
       "      <th>document_create_date</th>\n",
       "      <th>document_create_date.1</th>\n",
       "      <th>due_in_date</th>\n",
       "      <th>invoice_currency</th>\n",
       "      <th>document type</th>\n",
       "      <th>total_open_amount</th>\n",
       "      <th>baseline_create_date</th>\n",
       "      <th>cust_payment_terms</th>\n",
       "      <th>invoice_id</th>\n",
       "      <th>isOpen</th>\n",
       "    </tr>\n",
       "  </thead>\n",
       "  <tbody>\n",
       "    <tr>\n",
       "      <th>8181</th>\n",
       "      <td>CA02</td>\n",
       "      <td>0140104429</td>\n",
       "      <td>COSTCO llc</td>\n",
       "      <td>2019-02-20 00:00:00</td>\n",
       "      <td>2019.0</td>\n",
       "      <td>2.960521e+09</td>\n",
       "      <td>2019-01-10</td>\n",
       "      <td>20190110</td>\n",
       "      <td>20190110</td>\n",
       "      <td>20190106.0</td>\n",
       "      <td>CAD</td>\n",
       "      <td>RV</td>\n",
       "      <td>6688.2816</td>\n",
       "      <td>2018-12-27</td>\n",
       "      <td>CA10</td>\n",
       "      <td>2.960521e+09</td>\n",
       "      <td>0</td>\n",
       "    </tr>\n",
       "    <tr>\n",
       "      <th>10318</th>\n",
       "      <td>U001</td>\n",
       "      <td>0200769623</td>\n",
       "      <td>WAL-MAR</td>\n",
       "      <td>2019-01-09 00:00:00</td>\n",
       "      <td>2019.0</td>\n",
       "      <td>1.928541e+09</td>\n",
       "      <td>2018-12-30</td>\n",
       "      <td>20181229</td>\n",
       "      <td>20181230</td>\n",
       "      <td>20190114.0</td>\n",
       "      <td>USD</td>\n",
       "      <td>RV</td>\n",
       "      <td>56249.1400</td>\n",
       "      <td>2018-12-30</td>\n",
       "      <td>NAH4</td>\n",
       "      <td>1.928541e+09</td>\n",
       "      <td>0</td>\n",
       "    </tr>\n",
       "    <tr>\n",
       "      <th>40595</th>\n",
       "      <td>U001</td>\n",
       "      <td>0200726979</td>\n",
       "      <td>BJ'S  llc</td>\n",
       "      <td>2019-01-15 00:00:00</td>\n",
       "      <td>2019.0</td>\n",
       "      <td>1.928540e+09</td>\n",
       "      <td>2018-12-30</td>\n",
       "      <td>20181229</td>\n",
       "      <td>20181230</td>\n",
       "      <td>20190114.0</td>\n",
       "      <td>USD</td>\n",
       "      <td>RV</td>\n",
       "      <td>137.8400</td>\n",
       "      <td>2018-12-30</td>\n",
       "      <td>NAA8</td>\n",
       "      <td>1.928540e+09</td>\n",
       "      <td>0</td>\n",
       "    </tr>\n",
       "    <tr>\n",
       "      <th>23364</th>\n",
       "      <td>U001</td>\n",
       "      <td>0200769623</td>\n",
       "      <td>WAL-MAR corporation</td>\n",
       "      <td>2019-01-09 00:00:00</td>\n",
       "      <td>2019.0</td>\n",
       "      <td>1.928541e+09</td>\n",
       "      <td>2018-12-30</td>\n",
       "      <td>20181229</td>\n",
       "      <td>20181230</td>\n",
       "      <td>20190114.0</td>\n",
       "      <td>USD</td>\n",
       "      <td>RV</td>\n",
       "      <td>529.4000</td>\n",
       "      <td>2018-12-30</td>\n",
       "      <td>NAH4</td>\n",
       "      <td>1.928541e+09</td>\n",
       "      <td>0</td>\n",
       "    </tr>\n",
       "    <tr>\n",
       "      <th>42890</th>\n",
       "      <td>U001</td>\n",
       "      <td>0200762301</td>\n",
       "      <td>C&amp;S WH corporation</td>\n",
       "      <td>2019-01-15 00:00:00</td>\n",
       "      <td>2019.0</td>\n",
       "      <td>1.928540e+09</td>\n",
       "      <td>2018-12-30</td>\n",
       "      <td>20181229</td>\n",
       "      <td>20181230</td>\n",
       "      <td>20190114.0</td>\n",
       "      <td>USD</td>\n",
       "      <td>RV</td>\n",
       "      <td>3211.7800</td>\n",
       "      <td>2018-12-30</td>\n",
       "      <td>NAC6</td>\n",
       "      <td>1.928540e+09</td>\n",
       "      <td>0</td>\n",
       "    </tr>\n",
       "    <tr>\n",
       "      <th>23372</th>\n",
       "      <td>U001</td>\n",
       "      <td>0200769623</td>\n",
       "      <td>WAL-MAR foundation</td>\n",
       "      <td>2019-01-10 00:00:00</td>\n",
       "      <td>2019.0</td>\n",
       "      <td>1.928543e+09</td>\n",
       "      <td>2018-12-30</td>\n",
       "      <td>20181230</td>\n",
       "      <td>20181230</td>\n",
       "      <td>20190114.0</td>\n",
       "      <td>USD</td>\n",
       "      <td>RV</td>\n",
       "      <td>31888.7900</td>\n",
       "      <td>2018-12-30</td>\n",
       "      <td>NAH4</td>\n",
       "      <td>1.928543e+09</td>\n",
       "      <td>0</td>\n",
       "    </tr>\n",
       "    <tr>\n",
       "      <th>45017</th>\n",
       "      <td>U001</td>\n",
       "      <td>0200769623</td>\n",
       "      <td>WAL-MAR foundation</td>\n",
       "      <td>2019-01-15 00:00:00</td>\n",
       "      <td>2019.0</td>\n",
       "      <td>1.928540e+09</td>\n",
       "      <td>2018-12-30</td>\n",
       "      <td>20181229</td>\n",
       "      <td>20181230</td>\n",
       "      <td>20190114.0</td>\n",
       "      <td>USD</td>\n",
       "      <td>RV</td>\n",
       "      <td>5154.9100</td>\n",
       "      <td>2018-12-30</td>\n",
       "      <td>NAH4</td>\n",
       "      <td>1.928540e+09</td>\n",
       "      <td>0</td>\n",
       "    </tr>\n",
       "    <tr>\n",
       "      <th>34568</th>\n",
       "      <td>U001</td>\n",
       "      <td>0200769623</td>\n",
       "      <td>WAL-MAR</td>\n",
       "      <td>2019-01-10 00:00:00</td>\n",
       "      <td>2019.0</td>\n",
       "      <td>1.928543e+09</td>\n",
       "      <td>2018-12-30</td>\n",
       "      <td>20181230</td>\n",
       "      <td>20181230</td>\n",
       "      <td>20190114.0</td>\n",
       "      <td>USD</td>\n",
       "      <td>RV</td>\n",
       "      <td>69358.1700</td>\n",
       "      <td>2018-12-30</td>\n",
       "      <td>NAH4</td>\n",
       "      <td>1.928543e+09</td>\n",
       "      <td>0</td>\n",
       "    </tr>\n",
       "    <tr>\n",
       "      <th>5220</th>\n",
       "      <td>U001</td>\n",
       "      <td>0200799367</td>\n",
       "      <td>MCL in</td>\n",
       "      <td>2019-01-16 00:00:00</td>\n",
       "      <td>2019.0</td>\n",
       "      <td>1.928540e+09</td>\n",
       "      <td>2018-12-30</td>\n",
       "      <td>20181229</td>\n",
       "      <td>20181230</td>\n",
       "      <td>20190114.0</td>\n",
       "      <td>USD</td>\n",
       "      <td>RV</td>\n",
       "      <td>51909.0500</td>\n",
       "      <td>2018-12-30</td>\n",
       "      <td>NAA8</td>\n",
       "      <td>1.928540e+09</td>\n",
       "      <td>0</td>\n",
       "    </tr>\n",
       "    <tr>\n",
       "      <th>18895</th>\n",
       "      <td>U001</td>\n",
       "      <td>0200707005</td>\n",
       "      <td>KING S llc</td>\n",
       "      <td>2019-01-14 00:00:00</td>\n",
       "      <td>2019.0</td>\n",
       "      <td>1.928533e+09</td>\n",
       "      <td>2018-12-30</td>\n",
       "      <td>20181229</td>\n",
       "      <td>20181230</td>\n",
       "      <td>20190114.0</td>\n",
       "      <td>USD</td>\n",
       "      <td>RV</td>\n",
       "      <td>17046.5900</td>\n",
       "      <td>2018-12-30</td>\n",
       "      <td>NAA8</td>\n",
       "      <td>1.928533e+09</td>\n",
       "      <td>0</td>\n",
       "    </tr>\n",
       "  </tbody>\n",
       "</table>\n",
       "</div>"
      ],
      "text/plain": [
       "      business_code cust_number        name_customer           clear_date  \\\n",
       "8181           CA02  0140104429           COSTCO llc  2019-02-20 00:00:00   \n",
       "10318          U001  0200769623             WAL-MAR   2019-01-09 00:00:00   \n",
       "40595          U001  0200726979            BJ'S  llc  2019-01-15 00:00:00   \n",
       "23364          U001  0200769623  WAL-MAR corporation  2019-01-09 00:00:00   \n",
       "42890          U001  0200762301   C&S WH corporation  2019-01-15 00:00:00   \n",
       "23372          U001  0200769623   WAL-MAR foundation  2019-01-10 00:00:00   \n",
       "45017          U001  0200769623   WAL-MAR foundation  2019-01-15 00:00:00   \n",
       "34568          U001  0200769623             WAL-MAR   2019-01-10 00:00:00   \n",
       "5220           U001  0200799367               MCL in  2019-01-16 00:00:00   \n",
       "18895          U001  0200707005           KING S llc  2019-01-14 00:00:00   \n",
       "\n",
       "       buisness_year        doc_id posting_date  document_create_date  \\\n",
       "8181          2019.0  2.960521e+09   2019-01-10              20190110   \n",
       "10318         2019.0  1.928541e+09   2018-12-30              20181229   \n",
       "40595         2019.0  1.928540e+09   2018-12-30              20181229   \n",
       "23364         2019.0  1.928541e+09   2018-12-30              20181229   \n",
       "42890         2019.0  1.928540e+09   2018-12-30              20181229   \n",
       "23372         2019.0  1.928543e+09   2018-12-30              20181230   \n",
       "45017         2019.0  1.928540e+09   2018-12-30              20181229   \n",
       "34568         2019.0  1.928543e+09   2018-12-30              20181230   \n",
       "5220          2019.0  1.928540e+09   2018-12-30              20181229   \n",
       "18895         2019.0  1.928533e+09   2018-12-30              20181229   \n",
       "\n",
       "       document_create_date.1  due_in_date invoice_currency document type  \\\n",
       "8181                 20190110   20190106.0              CAD            RV   \n",
       "10318                20181230   20190114.0              USD            RV   \n",
       "40595                20181230   20190114.0              USD            RV   \n",
       "23364                20181230   20190114.0              USD            RV   \n",
       "42890                20181230   20190114.0              USD            RV   \n",
       "23372                20181230   20190114.0              USD            RV   \n",
       "45017                20181230   20190114.0              USD            RV   \n",
       "34568                20181230   20190114.0              USD            RV   \n",
       "5220                 20181230   20190114.0              USD            RV   \n",
       "18895                20181230   20190114.0              USD            RV   \n",
       "\n",
       "       total_open_amount baseline_create_date cust_payment_terms  \\\n",
       "8181           6688.2816           2018-12-27               CA10   \n",
       "10318         56249.1400           2018-12-30               NAH4   \n",
       "40595           137.8400           2018-12-30               NAA8   \n",
       "23364           529.4000           2018-12-30               NAH4   \n",
       "42890          3211.7800           2018-12-30               NAC6   \n",
       "23372         31888.7900           2018-12-30               NAH4   \n",
       "45017          5154.9100           2018-12-30               NAH4   \n",
       "34568         69358.1700           2018-12-30               NAH4   \n",
       "5220          51909.0500           2018-12-30               NAA8   \n",
       "18895         17046.5900           2018-12-30               NAA8   \n",
       "\n",
       "         invoice_id  isOpen  \n",
       "8181   2.960521e+09       0  \n",
       "10318  1.928541e+09       0  \n",
       "40595  1.928540e+09       0  \n",
       "23364  1.928541e+09       0  \n",
       "42890  1.928540e+09       0  \n",
       "23372  1.928543e+09       0  \n",
       "45017  1.928540e+09       0  \n",
       "34568  1.928543e+09       0  \n",
       "5220   1.928540e+09       0  \n",
       "18895  1.928533e+09       0  "
      ]
     },
     "execution_count": 14,
     "metadata": {},
     "output_type": "execute_result"
    }
   ],
   "source": [
    "df.loc[df.invoice_currency == \"CAD\", \"total_open_amount\"]*=0.78\n",
    "df.head(10)"
   ]
  },
  {
   "cell_type": "code",
   "execution_count": 15,
   "metadata": {},
   "outputs": [],
   "source": [
    "df.drop(\"name_customer\" ,axis=1, inplace=True)\n",
    "df.drop(\"invoice_id\" ,axis=1, inplace=True)\n",
    "df.drop(\"doc_id\" ,axis=1, inplace=True)\n",
    "df.drop(\"isOpen\" ,axis=1, inplace=True)\n",
    "df.drop(\"invoice_currency\" ,axis=1, inplace=True)\n",
    "df.drop(\"document type\" ,axis=1, inplace=True)\n",
    "df.drop(\"business_code\" ,axis=1, inplace=True)\n",
    "df.drop(\"document_create_date\" ,axis=1, inplace=True)\n",
    "df.drop(\"posting_date\" ,axis=1, inplace=True)\n",
    "df.drop(\"baseline_create_date\" ,axis=1, inplace=True)"
   ]
  },
  {
   "cell_type": "code",
   "execution_count": 16,
   "metadata": {},
   "outputs": [
    {
     "name": "stdout",
     "output_type": "stream",
     "text": [
      "(3365, 7)\n"
     ]
    },
    {
     "data": {
      "text/plain": [
       "(46635, 7)"
      ]
     },
     "execution_count": 16,
     "metadata": {},
     "output_type": "execute_result"
    }
   ],
   "source": [
    "\"\"\"\n",
    "- Removing Data where clear_date is NULL and storing it in final_hrc_test_data\n",
    "\"\"\"\n",
    "final_hrc_test_data = df[df['clear_date'].isnull()]\n",
    "print(final_hrc_test_data.shape)\n",
    "df.drop(df[df['clear_date'].isnull()].index, axis=0, inplace=True)\n",
    "df.shape"
   ]
  },
  {
   "cell_type": "code",
   "execution_count": 17,
   "metadata": {},
   "outputs": [
    {
     "name": "stdout",
     "output_type": "stream",
     "text": [
      "{}\n",
      "{'clear_date': 1.0}\n"
     ]
    }
   ],
   "source": [
    "# Finding the columns which have missing data, along with percentage of data missing\n",
    "\n",
    "miss_columns = {}\n",
    "\n",
    "for c in df:\n",
    "    if df[c].isnull().sum() != 0:\n",
    "        miss_columns[c] = df[c].isnull().mean()\n",
    "print(miss_columns)\n",
    "\n",
    "# Checking the miss % in final_hrc_test_data\n",
    "miss_columns = {}\n",
    "\n",
    "for c in df:\n",
    "    if final_hrc_test_data[c].isnull().sum() != 0:\n",
    "        miss_columns[c] = final_hrc_test_data[c].isnull().mean()\n",
    "print(miss_columns)"
   ]
  },
  {
   "cell_type": "code",
   "execution_count": 18,
   "metadata": {},
   "outputs": [
    {
     "name": "stdout",
     "output_type": "stream",
     "text": [
      "Index(['cust_number', 'clear_date', 'buisness_year', 'document_create_date.1',\n",
      "       'due_in_date', 'total_open_amount', 'cust_payment_terms'],\n",
      "      dtype='object') (46635, 7)\n"
     ]
    }
   ],
   "source": [
    "print(df.columns, df.shape)"
   ]
  },
  {
   "cell_type": "code",
   "execution_count": 19,
   "metadata": {},
   "outputs": [],
   "source": [
    "# Normalizing all date columns\n",
    "df['document_create_date.1']=pd.to_datetime(df['document_create_date.1'], format='%Y%m%d')\n",
    "df['due_in_date'] = pd.to_datetime(df['due_in_date'], format='%Y%m%d')\n",
    "df['clear_date']=pd.to_datetime(df['clear_date'])"
   ]
  },
  {
   "cell_type": "code",
   "execution_count": 20,
   "metadata": {},
   "outputs": [
    {
     "data": {
      "text/html": [
       "<div>\n",
       "<style scoped>\n",
       "    .dataframe tbody tr th:only-of-type {\n",
       "        vertical-align: middle;\n",
       "    }\n",
       "\n",
       "    .dataframe tbody tr th {\n",
       "        vertical-align: top;\n",
       "    }\n",
       "\n",
       "    .dataframe thead th {\n",
       "        text-align: right;\n",
       "    }\n",
       "</style>\n",
       "<table border=\"1\" class=\"dataframe\">\n",
       "  <thead>\n",
       "    <tr style=\"text-align: right;\">\n",
       "      <th></th>\n",
       "      <th>cust_number</th>\n",
       "      <th>clear_date</th>\n",
       "      <th>buisness_year</th>\n",
       "      <th>document_create_date.1</th>\n",
       "      <th>due_in_date</th>\n",
       "      <th>total_open_amount</th>\n",
       "      <th>cust_payment_terms</th>\n",
       "      <th>total_days</th>\n",
       "      <th>days_past_duedate</th>\n",
       "    </tr>\n",
       "  </thead>\n",
       "  <tbody>\n",
       "    <tr>\n",
       "      <th>8181</th>\n",
       "      <td>0140104429</td>\n",
       "      <td>2019-02-20</td>\n",
       "      <td>2019.0</td>\n",
       "      <td>2019-01-10</td>\n",
       "      <td>2019-01-06</td>\n",
       "      <td>6688.2816</td>\n",
       "      <td>CA10</td>\n",
       "      <td>-4</td>\n",
       "      <td>45</td>\n",
       "    </tr>\n",
       "    <tr>\n",
       "      <th>10318</th>\n",
       "      <td>0200769623</td>\n",
       "      <td>2019-01-09</td>\n",
       "      <td>2019.0</td>\n",
       "      <td>2018-12-30</td>\n",
       "      <td>2019-01-14</td>\n",
       "      <td>56249.1400</td>\n",
       "      <td>NAH4</td>\n",
       "      <td>15</td>\n",
       "      <td>-5</td>\n",
       "    </tr>\n",
       "    <tr>\n",
       "      <th>40595</th>\n",
       "      <td>0200726979</td>\n",
       "      <td>2019-01-15</td>\n",
       "      <td>2019.0</td>\n",
       "      <td>2018-12-30</td>\n",
       "      <td>2019-01-14</td>\n",
       "      <td>137.8400</td>\n",
       "      <td>NAA8</td>\n",
       "      <td>15</td>\n",
       "      <td>1</td>\n",
       "    </tr>\n",
       "    <tr>\n",
       "      <th>23364</th>\n",
       "      <td>0200769623</td>\n",
       "      <td>2019-01-09</td>\n",
       "      <td>2019.0</td>\n",
       "      <td>2018-12-30</td>\n",
       "      <td>2019-01-14</td>\n",
       "      <td>529.4000</td>\n",
       "      <td>NAH4</td>\n",
       "      <td>15</td>\n",
       "      <td>-5</td>\n",
       "    </tr>\n",
       "    <tr>\n",
       "      <th>42890</th>\n",
       "      <td>0200762301</td>\n",
       "      <td>2019-01-15</td>\n",
       "      <td>2019.0</td>\n",
       "      <td>2018-12-30</td>\n",
       "      <td>2019-01-14</td>\n",
       "      <td>3211.7800</td>\n",
       "      <td>NAC6</td>\n",
       "      <td>15</td>\n",
       "      <td>1</td>\n",
       "    </tr>\n",
       "  </tbody>\n",
       "</table>\n",
       "</div>"
      ],
      "text/plain": [
       "      cust_number clear_date  buisness_year document_create_date.1  \\\n",
       "8181   0140104429 2019-02-20         2019.0             2019-01-10   \n",
       "10318  0200769623 2019-01-09         2019.0             2018-12-30   \n",
       "40595  0200726979 2019-01-15         2019.0             2018-12-30   \n",
       "23364  0200769623 2019-01-09         2019.0             2018-12-30   \n",
       "42890  0200762301 2019-01-15         2019.0             2018-12-30   \n",
       "\n",
       "      due_in_date  total_open_amount cust_payment_terms  total_days  \\\n",
       "8181   2019-01-06          6688.2816               CA10          -4   \n",
       "10318  2019-01-14         56249.1400               NAH4          15   \n",
       "40595  2019-01-14           137.8400               NAA8          15   \n",
       "23364  2019-01-14           529.4000               NAH4          15   \n",
       "42890  2019-01-14          3211.7800               NAC6          15   \n",
       "\n",
       "       days_past_duedate  \n",
       "8181                  45  \n",
       "10318                 -5  \n",
       "40595                  1  \n",
       "23364                 -5  \n",
       "42890                  1  "
      ]
     },
     "execution_count": 20,
     "metadata": {},
     "output_type": "execute_result"
    }
   ],
   "source": [
    "df['total_days'] = df['due_in_date']-df['document_create_date.1']\n",
    "df['total_days'] = pd.to_numeric(df['total_days'].dt.days, downcast='integer')\n",
    "df['days_past_duedate'] = df['clear_date']-df['due_in_date']\n",
    "df['days_past_duedate'] = pd.to_numeric(df['days_past_duedate'].dt.days, downcast='integer')\n",
    "df.head()"
   ]
  },
  {
   "cell_type": "code",
   "execution_count": 21,
   "metadata": {},
   "outputs": [],
   "source": [
    "df.drop('due_in_date', axis=1, inplace=True)\n",
    "df.drop('clear_date', axis=1, inplace=True)"
   ]
  },
  {
   "cell_type": "code",
   "execution_count": 22,
   "metadata": {},
   "outputs": [
    {
     "name": "stdout",
     "output_type": "stream",
     "text": [
      "Index(['cust_number', 'buisness_year', 'document_create_date.1',\n",
      "       'total_open_amount', 'cust_payment_terms', 'total_days',\n",
      "       'days_past_duedate'],\n",
      "      dtype='object')\n"
     ]
    }
   ],
   "source": [
    "print(df.columns)"
   ]
  },
  {
   "cell_type": "markdown",
   "metadata": {},
   "source": [
    "### Splitting the data into training and test set"
   ]
  },
  {
   "cell_type": "code",
   "execution_count": 23,
   "metadata": {},
   "outputs": [],
   "source": [
    "from sklearn.model_selection import train_test_split\n",
    "train_x, test_x, train_y, test_y = train_test_split(df.drop('days_past_duedate', axis=1),df['days_past_duedate'],test_size=0.20,random_state=2,shuffle=False)"
   ]
  },
  {
   "cell_type": "code",
   "execution_count": 24,
   "metadata": {},
   "outputs": [
    {
     "name": "stdout",
     "output_type": "stream",
     "text": [
      "(37308, 6) (9327, 6)\n"
     ]
    }
   ],
   "source": [
    "print(train_x.shape, test_x.shape)"
   ]
  },
  {
   "cell_type": "markdown",
   "metadata": {},
   "source": [
    "### Feature Engineering"
   ]
  },
  {
   "cell_type": "code",
   "execution_count": 25,
   "metadata": {},
   "outputs": [],
   "source": [
    "train_x.reset_index(inplace=True, drop=True)\n",
    "test_x.reset_index(inplace=True, drop=True)"
   ]
  },
  {
   "cell_type": "code",
   "execution_count": 26,
   "metadata": {},
   "outputs": [
    {
     "data": {
      "text/html": [
       "<div>\n",
       "<style scoped>\n",
       "    .dataframe tbody tr th:only-of-type {\n",
       "        vertical-align: middle;\n",
       "    }\n",
       "\n",
       "    .dataframe tbody tr th {\n",
       "        vertical-align: top;\n",
       "    }\n",
       "\n",
       "    .dataframe thead th {\n",
       "        text-align: right;\n",
       "    }\n",
       "</style>\n",
       "<table border=\"1\" class=\"dataframe\">\n",
       "  <thead>\n",
       "    <tr style=\"text-align: right;\">\n",
       "      <th></th>\n",
       "      <th>cust_number</th>\n",
       "      <th>buisness_year</th>\n",
       "      <th>document_create_date.1</th>\n",
       "      <th>total_open_amount</th>\n",
       "      <th>cust_payment_terms</th>\n",
       "      <th>total_days</th>\n",
       "    </tr>\n",
       "  </thead>\n",
       "  <tbody>\n",
       "    <tr>\n",
       "      <th>0</th>\n",
       "      <td>0140104429</td>\n",
       "      <td>2019.0</td>\n",
       "      <td>2019-01-10</td>\n",
       "      <td>6688.2816</td>\n",
       "      <td>CA10</td>\n",
       "      <td>-4</td>\n",
       "    </tr>\n",
       "    <tr>\n",
       "      <th>1</th>\n",
       "      <td>0200769623</td>\n",
       "      <td>2019.0</td>\n",
       "      <td>2018-12-30</td>\n",
       "      <td>56249.1400</td>\n",
       "      <td>NAH4</td>\n",
       "      <td>15</td>\n",
       "    </tr>\n",
       "    <tr>\n",
       "      <th>2</th>\n",
       "      <td>0200726979</td>\n",
       "      <td>2019.0</td>\n",
       "      <td>2018-12-30</td>\n",
       "      <td>137.8400</td>\n",
       "      <td>NAA8</td>\n",
       "      <td>15</td>\n",
       "    </tr>\n",
       "    <tr>\n",
       "      <th>3</th>\n",
       "      <td>0200769623</td>\n",
       "      <td>2019.0</td>\n",
       "      <td>2018-12-30</td>\n",
       "      <td>529.4000</td>\n",
       "      <td>NAH4</td>\n",
       "      <td>15</td>\n",
       "    </tr>\n",
       "    <tr>\n",
       "      <th>4</th>\n",
       "      <td>0200762301</td>\n",
       "      <td>2019.0</td>\n",
       "      <td>2018-12-30</td>\n",
       "      <td>3211.7800</td>\n",
       "      <td>NAC6</td>\n",
       "      <td>15</td>\n",
       "    </tr>\n",
       "    <tr>\n",
       "      <th>...</th>\n",
       "      <td>...</td>\n",
       "      <td>...</td>\n",
       "      <td>...</td>\n",
       "      <td>...</td>\n",
       "      <td>...</td>\n",
       "      <td>...</td>\n",
       "    </tr>\n",
       "    <tr>\n",
       "      <th>37303</th>\n",
       "      <td>0200729290</td>\n",
       "      <td>2019.0</td>\n",
       "      <td>2019-11-17</td>\n",
       "      <td>68260.4600</td>\n",
       "      <td>NAA8</td>\n",
       "      <td>15</td>\n",
       "    </tr>\n",
       "    <tr>\n",
       "      <th>37304</th>\n",
       "      <td>0200761734</td>\n",
       "      <td>2019.0</td>\n",
       "      <td>2019-11-17</td>\n",
       "      <td>40381.7200</td>\n",
       "      <td>NAA8</td>\n",
       "      <td>15</td>\n",
       "    </tr>\n",
       "    <tr>\n",
       "      <th>37305</th>\n",
       "      <td>0140101682</td>\n",
       "      <td>2019.0</td>\n",
       "      <td>2019-11-17</td>\n",
       "      <td>3457.5000</td>\n",
       "      <td>NAVE</td>\n",
       "      <td>30</td>\n",
       "    </tr>\n",
       "    <tr>\n",
       "      <th>37306</th>\n",
       "      <td>0200762301</td>\n",
       "      <td>2019.0</td>\n",
       "      <td>2019-11-17</td>\n",
       "      <td>7946.0300</td>\n",
       "      <td>NAC6</td>\n",
       "      <td>15</td>\n",
       "    </tr>\n",
       "    <tr>\n",
       "      <th>37307</th>\n",
       "      <td>0200769623</td>\n",
       "      <td>2019.0</td>\n",
       "      <td>2019-11-17</td>\n",
       "      <td>449.1400</td>\n",
       "      <td>NAH4</td>\n",
       "      <td>15</td>\n",
       "    </tr>\n",
       "  </tbody>\n",
       "</table>\n",
       "<p>37308 rows × 6 columns</p>\n",
       "</div>"
      ],
      "text/plain": [
       "      cust_number  buisness_year document_create_date.1  total_open_amount  \\\n",
       "0      0140104429         2019.0             2019-01-10          6688.2816   \n",
       "1      0200769623         2019.0             2018-12-30         56249.1400   \n",
       "2      0200726979         2019.0             2018-12-30           137.8400   \n",
       "3      0200769623         2019.0             2018-12-30           529.4000   \n",
       "4      0200762301         2019.0             2018-12-30          3211.7800   \n",
       "...           ...            ...                    ...                ...   \n",
       "37303  0200729290         2019.0             2019-11-17         68260.4600   \n",
       "37304  0200761734         2019.0             2019-11-17         40381.7200   \n",
       "37305  0140101682         2019.0             2019-11-17          3457.5000   \n",
       "37306  0200762301         2019.0             2019-11-17          7946.0300   \n",
       "37307  0200769623         2019.0             2019-11-17           449.1400   \n",
       "\n",
       "      cust_payment_terms  total_days  \n",
       "0                   CA10          -4  \n",
       "1                   NAH4          15  \n",
       "2                   NAA8          15  \n",
       "3                   NAH4          15  \n",
       "4                   NAC6          15  \n",
       "...                  ...         ...  \n",
       "37303               NAA8          15  \n",
       "37304               NAA8          15  \n",
       "37305               NAVE          30  \n",
       "37306               NAC6          15  \n",
       "37307               NAH4          15  \n",
       "\n",
       "[37308 rows x 6 columns]"
      ]
     },
     "execution_count": 26,
     "metadata": {},
     "output_type": "execute_result"
    }
   ],
   "source": [
    "train_x"
   ]
  },
  {
   "cell_type": "code",
   "execution_count": 27,
   "metadata": {},
   "outputs": [
    {
     "data": {
      "text/plain": [
       "<matplotlib.axes._subplots.AxesSubplot at 0x18a9e9646a0>"
      ]
     },
     "execution_count": 27,
     "metadata": {},
     "output_type": "execute_result"
    },
    {
     "data": {
      "image/png": "[encoded data removed]",
      "text/plain": [
       "<Figure size 432x288 with 2 Axes>"
      ]
     },
     "metadata": {
      "needs_background": "light"
     },
     "output_type": "display_data"
    }
   ],
   "source": [
    "data_corr = df.select_dtypes(include=[np.number])\n",
    "sns.heatmap(data_corr.corr(), annot=True)"
   ]
  },
  {
   "cell_type": "code",
   "execution_count": 28,
   "metadata": {},
   "outputs": [
    {
     "data": {
      "text/plain": [
       "0       2019-01-10\n",
       "1       2018-12-30\n",
       "2       2018-12-30\n",
       "3       2018-12-30\n",
       "4       2018-12-30\n",
       "           ...    \n",
       "37303   2019-11-17\n",
       "37304   2019-11-17\n",
       "37305   2019-11-17\n",
       "37306   2019-11-17\n",
       "37307   2019-11-17\n",
       "Name: document_create_date.1, Length: 37308, dtype: datetime64[ns]"
      ]
     },
     "execution_count": 28,
     "metadata": {},
     "output_type": "execute_result"
    }
   ],
   "source": [
    "train_x[\"document_create_date.1\"]"
   ]
  },
  {
   "cell_type": "code",
   "execution_count": 29,
   "metadata": {},
   "outputs": [],
   "source": [
    "train_x['doc_create_day'] = train_x[\"document_create_date.1\"].map(lambda x: x.day)\n",
    "train_x['doc_create_month'] = train_x[\"document_create_date.1\"].map(lambda x: x.month)\n",
    "train_x['doc_create_year'] = train_x[\"document_create_date.1\"].map(lambda x: x.year)"
   ]
  },
  {
   "cell_type": "code",
   "execution_count": 30,
   "metadata": {},
   "outputs": [],
   "source": [
    "test_x['doc_create_day'] = test_x[\"document_create_date.1\"].map(lambda x: x.day)\n",
    "test_x['doc_create_month'] = test_x[\"document_create_date.1\"].map(lambda x: x.month)\n",
    "test_x['doc_create_year'] = test_x[\"document_create_date.1\"].map(lambda x: x.year)"
   ]
  },
  {
   "cell_type": "code",
   "execution_count": 31,
   "metadata": {},
   "outputs": [
    {
     "data": {
      "text/plain": [
       "<matplotlib.axes._subplots.AxesSubplot at 0x18a9c552ca0>"
      ]
     },
     "execution_count": 31,
     "metadata": {},
     "output_type": "execute_result"
    },
    {
     "data": {
      "image/png": "[encoded data removed]",
      "text/plain": [
       "<Figure size 432x288 with 2 Axes>"
      ]
     },
     "metadata": {
      "needs_background": "light"
     },
     "output_type": "display_data"
    }
   ],
   "source": [
    "data_corr = train_x.select_dtypes(include=[np.number])\n",
    "sns.heatmap(data_corr.corr(), annot=True)"
   ]
  },
  {
   "cell_type": "code",
   "execution_count": 32,
   "metadata": {},
   "outputs": [],
   "source": [
    "\"\"\"\n",
    "- Dropping document_create_date_norm because it has been splitted into its principle componenets\n",
    "\"\"\"\n",
    "\n",
    "train_x.drop(['document_create_date.1'], axis=1, inplace=True)\n",
    "test_x.drop(['document_create_date.1'], axis=1, inplace=True)"
   ]
  },
  {
   "cell_type": "code",
   "execution_count": 33,
   "metadata": {},
   "outputs": [],
   "source": [
    "# Encoding doc create month, daym year and payment terms as well\n",
    "\n",
    "mapper_year = train_x.groupby('doc_create_year')['total_days'].mean().to_dict()\n",
    "train_x['doc_create_year_encoded'] = train_x.doc_create_year.map(mapper_year)\n",
    "test_x['doc_create_year_encoded'] = test_x.doc_create_year.map(mapper_year)"
   ]
  },
  {
   "cell_type": "code",
   "execution_count": 34,
   "metadata": {},
   "outputs": [],
   "source": [
    "mapper_month = train_x.groupby('doc_create_month')['total_days'].mean().to_dict()\n",
    "train_x['doc_create_month_encoded'] = train_x.doc_create_month.map(mapper_month)\n",
    "test_x['doc_create_month_encoded'] = test_x.doc_create_month.map(mapper_month)"
   ]
  },
  {
   "cell_type": "code",
   "execution_count": 35,
   "metadata": {},
   "outputs": [],
   "source": [
    "mapper_day = train_x.groupby('doc_create_day')['total_days'].mean().to_dict()\n",
    "train_x['doc_create_day_encoded'] = train_x.doc_create_day.map(mapper_day)\n",
    "test_x['doc_create_day_encoded'] = test_x.doc_create_day.map(mapper_day)"
   ]
  },
  {
   "cell_type": "code",
   "execution_count": 36,
   "metadata": {},
   "outputs": [],
   "source": [
    "mapper_pt = train_x.groupby('cust_payment_terms')['total_days'].mean().to_dict()\n",
    "train_x['cust_payment_terms_encoded'] = train_x.cust_payment_terms.map(mapper_pt)\n",
    "test_x['cust_payment_terms_encoded'] = test_x.cust_payment_terms.map(mapper_pt)"
   ]
  },
  {
   "cell_type": "code",
   "execution_count": 37,
   "metadata": {},
   "outputs": [
    {
     "name": "stdout",
     "output_type": "stream",
     "text": [
      "cust_number                   0\n",
      "buisness_year                 0\n",
      "total_open_amount             0\n",
      "cust_payment_terms            0\n",
      "total_days                    0\n",
      "doc_create_day                0\n",
      "doc_create_month              0\n",
      "doc_create_year               0\n",
      "doc_create_year_encoded       0\n",
      "doc_create_month_encoded      0\n",
      "doc_create_day_encoded        0\n",
      "cust_payment_terms_encoded    0\n",
      "dtype: int64\n",
      "cust_number                    0\n",
      "buisness_year                  0\n",
      "total_open_amount              0\n",
      "cust_payment_terms             0\n",
      "total_days                     0\n",
      "doc_create_day                 0\n",
      "doc_create_month               0\n",
      "doc_create_year                0\n",
      "doc_create_year_encoded        0\n",
      "doc_create_month_encoded       0\n",
      "doc_create_day_encoded         0\n",
      "cust_payment_terms_encoded    11\n",
      "dtype: int64\n"
     ]
    }
   ],
   "source": [
    "\"\"\"\n",
    "Making sure none of the values are NULL due to mapping\n",
    "\"\"\"\n",
    "print(train_x.isnull().sum())\n",
    "print(test_x.isnull().sum())"
   ]
  },
  {
   "cell_type": "code",
   "execution_count": 38,
   "metadata": {},
   "outputs": [],
   "source": [
    "#Replacing the Null value with 0 \n",
    "test_x.loc[test_x.cust_payment_terms_encoded.isnull()==True, \"cust_payment_terms_encoded\"]=0"
   ]
  },
  {
   "cell_type": "code",
   "execution_count": 39,
   "metadata": {},
   "outputs": [
    {
     "name": "stdout",
     "output_type": "stream",
     "text": [
      "cust_number                   0\n",
      "buisness_year                 0\n",
      "total_open_amount             0\n",
      "cust_payment_terms            0\n",
      "total_days                    0\n",
      "doc_create_day                0\n",
      "doc_create_month              0\n",
      "doc_create_year               0\n",
      "doc_create_year_encoded       0\n",
      "doc_create_month_encoded      0\n",
      "doc_create_day_encoded        0\n",
      "cust_payment_terms_encoded    0\n",
      "dtype: int64\n"
     ]
    }
   ],
   "source": [
    "print(test_x.isnull().sum())"
   ]
  },
  {
   "cell_type": "code",
   "execution_count": 40,
   "metadata": {},
   "outputs": [],
   "source": [
    "\"\"\"\n",
    "- Dropping their original columns, since now we have them in encoded form\n",
    "\"\"\"\n",
    "\n",
    "train_x.drop(\"doc_create_day\", axis=1, inplace=True)\n",
    "test_x.drop(\"doc_create_day\", axis=1, inplace=True)\n",
    "train_x.drop(\"doc_create_year\", axis=1, inplace=True)\n",
    "test_x.drop(\"doc_create_year\", axis=1, inplace=True)\n",
    "train_x.drop(\"doc_create_month\", axis=1, inplace=True)\n",
    "test_x.drop(\"doc_create_month\", axis=1, inplace=True)\n",
    "train_x.drop(\"cust_payment_terms\", axis=1, inplace=True)\n",
    "test_x.drop(\"cust_payment_terms\", axis=1, inplace=True)"
   ]
  },
  {
   "cell_type": "markdown",
   "metadata": {},
   "source": [
    "### Feature Selection"
   ]
  },
  {
   "cell_type": "code",
   "execution_count": 41,
   "metadata": {},
   "outputs": [
    {
     "data": {
      "text/plain": [
       "<matplotlib.axes._subplots.AxesSubplot at 0x18a9f34be20>"
      ]
     },
     "execution_count": 41,
     "metadata": {},
     "output_type": "execute_result"
    },
    {
     "data": {
      "image/png": "[encoded data removed]",
      "text/plain": [
       "<Figure size 432x288 with 2 Axes>"
      ]
     },
     "metadata": {
      "needs_background": "light"
     },
     "output_type": "display_data"
    }
   ],
   "source": [
    "import copy\n",
    "corr_df = copy.copy(train_x)\n",
    "corr_df['days_past_duedate'] = train_y\n",
    "\n",
    "sns.heatmap(corr_df.corr(), annot=True)"
   ]
  },
  {
   "cell_type": "code",
   "execution_count": 42,
   "metadata": {},
   "outputs": [
    {
     "data": {
      "text/html": [
       "<div>\n",
       "<style scoped>\n",
       "    .dataframe tbody tr th:only-of-type {\n",
       "        vertical-align: middle;\n",
       "    }\n",
       "\n",
       "    .dataframe tbody tr th {\n",
       "        vertical-align: top;\n",
       "    }\n",
       "\n",
       "    .dataframe thead th {\n",
       "        text-align: right;\n",
       "    }\n",
       "</style>\n",
       "<table border=\"1\" class=\"dataframe\">\n",
       "  <thead>\n",
       "    <tr style=\"text-align: right;\">\n",
       "      <th></th>\n",
       "      <th>cust_number</th>\n",
       "      <th>buisness_year</th>\n",
       "      <th>total_open_amount</th>\n",
       "      <th>total_days</th>\n",
       "      <th>doc_create_year_encoded</th>\n",
       "      <th>doc_create_month_encoded</th>\n",
       "      <th>doc_create_day_encoded</th>\n",
       "      <th>cust_payment_terms_encoded</th>\n",
       "    </tr>\n",
       "  </thead>\n",
       "  <tbody>\n",
       "    <tr>\n",
       "      <th>0</th>\n",
       "      <td>0200769623</td>\n",
       "      <td>2019.0</td>\n",
       "      <td>1897.5000</td>\n",
       "      <td>15</td>\n",
       "      <td>17.322268</td>\n",
       "      <td>15.768261</td>\n",
       "      <td>17.872046</td>\n",
       "      <td>15.002782</td>\n",
       "    </tr>\n",
       "    <tr>\n",
       "      <th>1</th>\n",
       "      <td>0200769623</td>\n",
       "      <td>2019.0</td>\n",
       "      <td>13234.1900</td>\n",
       "      <td>15</td>\n",
       "      <td>17.322268</td>\n",
       "      <td>15.768261</td>\n",
       "      <td>17.872046</td>\n",
       "      <td>15.002782</td>\n",
       "    </tr>\n",
       "    <tr>\n",
       "      <th>2</th>\n",
       "      <td>0200744019</td>\n",
       "      <td>2019.0</td>\n",
       "      <td>10317.2500</td>\n",
       "      <td>15</td>\n",
       "      <td>17.322268</td>\n",
       "      <td>15.768261</td>\n",
       "      <td>17.872046</td>\n",
       "      <td>15.002602</td>\n",
       "    </tr>\n",
       "    <tr>\n",
       "      <th>3</th>\n",
       "      <td>0100051641</td>\n",
       "      <td>2019.0</td>\n",
       "      <td>3930.1300</td>\n",
       "      <td>15</td>\n",
       "      <td>17.322268</td>\n",
       "      <td>15.768261</td>\n",
       "      <td>17.872046</td>\n",
       "      <td>15.002602</td>\n",
       "    </tr>\n",
       "    <tr>\n",
       "      <th>4</th>\n",
       "      <td>0200792734</td>\n",
       "      <td>2019.0</td>\n",
       "      <td>144064.6600</td>\n",
       "      <td>15</td>\n",
       "      <td>17.322268</td>\n",
       "      <td>15.768261</td>\n",
       "      <td>17.872046</td>\n",
       "      <td>15.002602</td>\n",
       "    </tr>\n",
       "    <tr>\n",
       "      <th>...</th>\n",
       "      <td>...</td>\n",
       "      <td>...</td>\n",
       "      <td>...</td>\n",
       "      <td>...</td>\n",
       "      <td>...</td>\n",
       "      <td>...</td>\n",
       "      <td>...</td>\n",
       "      <td>...</td>\n",
       "    </tr>\n",
       "    <tr>\n",
       "      <th>9322</th>\n",
       "      <td>0140104429</td>\n",
       "      <td>2020.0</td>\n",
       "      <td>60914.6304</td>\n",
       "      <td>19</td>\n",
       "      <td>-44.500000</td>\n",
       "      <td>18.093895</td>\n",
       "      <td>16.795332</td>\n",
       "      <td>13.171859</td>\n",
       "    </tr>\n",
       "    <tr>\n",
       "      <th>9323</th>\n",
       "      <td>0140106408</td>\n",
       "      <td>2020.0</td>\n",
       "      <td>3239.4180</td>\n",
       "      <td>18</td>\n",
       "      <td>-44.500000</td>\n",
       "      <td>18.093895</td>\n",
       "      <td>17.099092</td>\n",
       "      <td>13.171859</td>\n",
       "    </tr>\n",
       "    <tr>\n",
       "      <th>9324</th>\n",
       "      <td>0140105847</td>\n",
       "      <td>2020.0</td>\n",
       "      <td>44634.5172</td>\n",
       "      <td>19</td>\n",
       "      <td>-44.500000</td>\n",
       "      <td>18.093895</td>\n",
       "      <td>17.292835</td>\n",
       "      <td>13.171859</td>\n",
       "    </tr>\n",
       "    <tr>\n",
       "      <th>9325</th>\n",
       "      <td>0140104429</td>\n",
       "      <td>2020.0</td>\n",
       "      <td>27976.4316</td>\n",
       "      <td>19</td>\n",
       "      <td>-44.500000</td>\n",
       "      <td>18.093895</td>\n",
       "      <td>17.099092</td>\n",
       "      <td>13.171859</td>\n",
       "    </tr>\n",
       "    <tr>\n",
       "      <th>9326</th>\n",
       "      <td>0140104249</td>\n",
       "      <td>2020.0</td>\n",
       "      <td>3398.1246</td>\n",
       "      <td>20</td>\n",
       "      <td>-44.500000</td>\n",
       "      <td>18.093895</td>\n",
       "      <td>17.292835</td>\n",
       "      <td>13.171859</td>\n",
       "    </tr>\n",
       "  </tbody>\n",
       "</table>\n",
       "<p>9327 rows × 8 columns</p>\n",
       "</div>"
      ],
      "text/plain": [
       "     cust_number  buisness_year  total_open_amount  total_days  \\\n",
       "0     0200769623         2019.0          1897.5000          15   \n",
       "1     0200769623         2019.0         13234.1900          15   \n",
       "2     0200744019         2019.0         10317.2500          15   \n",
       "3     0100051641         2019.0          3930.1300          15   \n",
       "4     0200792734         2019.0        144064.6600          15   \n",
       "...          ...            ...                ...         ...   \n",
       "9322  0140104429         2020.0         60914.6304          19   \n",
       "9323  0140106408         2020.0          3239.4180          18   \n",
       "9324  0140105847         2020.0         44634.5172          19   \n",
       "9325  0140104429         2020.0         27976.4316          19   \n",
       "9326  0140104249         2020.0          3398.1246          20   \n",
       "\n",
       "      doc_create_year_encoded  doc_create_month_encoded  \\\n",
       "0                   17.322268                 15.768261   \n",
       "1                   17.322268                 15.768261   \n",
       "2                   17.322268                 15.768261   \n",
       "3                   17.322268                 15.768261   \n",
       "4                   17.322268                 15.768261   \n",
       "...                       ...                       ...   \n",
       "9322               -44.500000                 18.093895   \n",
       "9323               -44.500000                 18.093895   \n",
       "9324               -44.500000                 18.093895   \n",
       "9325               -44.500000                 18.093895   \n",
       "9326               -44.500000                 18.093895   \n",
       "\n",
       "      doc_create_day_encoded  cust_payment_terms_encoded  \n",
       "0                  17.872046                   15.002782  \n",
       "1                  17.872046                   15.002782  \n",
       "2                  17.872046                   15.002602  \n",
       "3                  17.872046                   15.002602  \n",
       "4                  17.872046                   15.002602  \n",
       "...                      ...                         ...  \n",
       "9322               16.795332                   13.171859  \n",
       "9323               17.099092                   13.171859  \n",
       "9324               17.292835                   13.171859  \n",
       "9325               17.099092                   13.171859  \n",
       "9326               17.292835                   13.171859  \n",
       "\n",
       "[9327 rows x 8 columns]"
      ]
     },
     "execution_count": 42,
     "metadata": {},
     "output_type": "execute_result"
    }
   ],
   "source": [
    "test_x"
   ]
  },
  {
   "cell_type": "markdown",
   "metadata": {},
   "source": [
    "### Training"
   ]
  },
  {
   "cell_type": "code",
   "execution_count": 43,
   "metadata": {},
   "outputs": [
    {
     "data": {
      "text/plain": [
       "array([[9.99999999e-01, 1.44106793e-05, 4.77378313e-05, ...,\n",
       "        1.15448428e-07, 1.24888775e-07, 9.40145792e-08],\n",
       "       [9.99999961e-01, 1.00563018e-05, 2.80167572e-04, ...,\n",
       "        7.93266407e-08, 8.42088234e-08, 7.47263518e-08],\n",
       "       [1.00000000e+00, 1.00584386e-05, 6.86703903e-07, ...,\n",
       "        7.93434966e-08, 8.42267167e-08, 7.47413326e-08],\n",
       "       ...,\n",
       "       [1.00000000e+00, 1.44109619e-05, 2.46785046e-05, ...,\n",
       "        1.12548689e-07, 1.27564818e-07, 2.14270146e-07],\n",
       "       [9.99999999e-01, 1.00566689e-05, 3.95792933e-05, ...,\n",
       "        7.85419401e-08, 8.90209244e-08, 7.47308247e-08],\n",
       "       [1.00000000e+00, 1.00563022e-05, 2.23709141e-06, ...,\n",
       "        7.85390758e-08, 8.90176779e-08, 7.47263547e-08]])"
      ]
     },
     "execution_count": 43,
     "metadata": {},
     "output_type": "execute_result"
    }
   ],
   "source": [
    "\n",
    "\"\"\"\n",
    "Normalizing the dataset before training on it.\n",
    "\"\"\"\n",
    "\n",
    "from sklearn.preprocessing import normalize\n",
    "new_train_x = normalize(train_x)\n",
    "new_train_x"
   ]
  },
  {
   "cell_type": "code",
   "execution_count": 44,
   "metadata": {},
   "outputs": [],
   "source": [
    "# Trying out random forest to check the important features\n",
    "from sklearn.ensemble import RandomForestRegressor, AdaBoostRegressor, GradientBoostingRegressor, StackingRegressor\n",
    "from sklearn.linear_model import RidgeCV, LassoCV, LinearRegression\n",
    "from sklearn.svm import SVR\n",
    "from sklearn.metrics import mean_squared_error\n",
    "from sklearn.tree import DecisionTreeRegressor\n",
    "from sklearn.decomposition import PCA"
   ]
  },
  {
   "cell_type": "markdown",
   "metadata": {},
   "source": [
    "### Random Forest"
   ]
  },
  {
   "cell_type": "code",
   "execution_count": 45,
   "metadata": {},
   "outputs": [
    {
     "name": "stderr",
     "output_type": "stream",
     "text": [
      "[Parallel(n_jobs=1)]: Using backend SequentialBackend with 1 concurrent workers.\n",
      "[Parallel(n_jobs=1)]: Done 100 out of 100 | elapsed:   20.6s finished\n"
     ]
    },
    {
     "data": {
      "text/plain": [
       "RandomForestRegressor(random_state=1, verbose=1)"
      ]
     },
     "execution_count": 45,
     "metadata": {},
     "output_type": "execute_result"
    }
   ],
   "source": [
    "rgr = RandomForestRegressor(n_estimators=100, random_state=1)\n",
    "rgr.verbose = 1\n",
    "rgr.fit(new_train_x, train_y)"
   ]
  },
  {
   "cell_type": "code",
   "execution_count": 46,
   "metadata": {},
   "outputs": [
    {
     "name": "stderr",
     "output_type": "stream",
     "text": [
      "[Parallel(n_jobs=1)]: Using backend SequentialBackend with 1 concurrent workers.\n",
      "[Parallel(n_jobs=1)]: Done 100 out of 100 | elapsed:    1.2s finished\n"
     ]
    },
    {
     "data": {
      "text/plain": [
       "0.4932159871208136"
      ]
     },
     "execution_count": 46,
     "metadata": {},
     "output_type": "execute_result"
    }
   ],
   "source": [
    "rgr.score(new_train_x, train_y)"
   ]
  },
  {
   "cell_type": "code",
   "execution_count": 47,
   "metadata": {},
   "outputs": [
    {
     "name": "stdout",
     "output_type": "stream",
     "text": [
      "[56.91166667 56.91166667 56.91166667 ... 33.28766667 33.28766667\n",
      " 33.28766667]\n",
      "1985.2804181147685\n"
     ]
    },
    {
     "name": "stderr",
     "output_type": "stream",
     "text": [
      "[Parallel(n_jobs=1)]: Using backend SequentialBackend with 1 concurrent workers.\n",
      "[Parallel(n_jobs=1)]: Done 100 out of 100 | elapsed:    0.0s finished\n"
     ]
    }
   ],
   "source": [
    "pred = rgr.predict(test_x)\n",
    "print(pred)\n",
    "print(mean_squared_error(test_y, pred))"
   ]
  },
  {
   "cell_type": "code",
   "execution_count": 48,
   "metadata": {},
   "outputs": [
    {
     "data": {
      "image/png": "[encoded data removed]",
      "text/plain": [
       "<Figure size 432x288 with 1 Axes>"
      ]
     },
     "metadata": {
      "needs_background": "light"
     },
     "output_type": "display_data"
    }
   ],
   "source": [
    "plt.title(\"Random forest\")\n",
    "plt.plot(range(len(pred))[:50],pred[:50])\n",
    "plt.plot(range(len(pred))[:50],test_y[:50])\n",
    "plt.show()"
   ]
  },
  {
   "cell_type": "markdown",
   "metadata": {},
   "source": [
    "### Adaptive Boosting"
   ]
  },
  {
   "cell_type": "code",
   "execution_count": 49,
   "metadata": {},
   "outputs": [
    {
     "data": {
      "text/plain": [
       "-7.191922797267361"
      ]
     },
     "execution_count": 49,
     "metadata": {},
     "output_type": "execute_result"
    }
   ],
   "source": [
    "# DecisionTreeRegressor mentioned explicitly to remove the max_depth=3 contraint.\n",
    "\n",
    "ada = AdaBoostRegressor(base_estimator=DecisionTreeRegressor(), loss='square', random_state=1, n_estimators=100)\n",
    "ada.fit(new_train_x, train_y)\n",
    "ada.score(new_train_x, train_y)"
   ]
  },
  {
   "cell_type": "code",
   "execution_count": 50,
   "metadata": {},
   "outputs": [
    {
     "name": "stdout",
     "output_type": "stream",
     "text": [
      "[91. 91. 91. ... 91. 91. 91.]\n",
      "8305.433415139902\n"
     ]
    }
   ],
   "source": [
    "pred = ada.predict(test_x)\n",
    "print(pred)\n",
    "print(mean_squared_error(test_y, pred))"
   ]
  },
  {
   "cell_type": "code",
   "execution_count": 51,
   "metadata": {},
   "outputs": [
    {
     "data": {
      "image/png": "[encoded data removed]",
      "text/plain": [
       "<Figure size 432x288 with 1 Axes>"
      ]
     },
     "metadata": {
      "needs_background": "light"
     },
     "output_type": "display_data"
    }
   ],
   "source": [
    "\"\"\"\n",
    "- Plotting the relative importance of each feature according to AdaBoost.\n",
    "\"\"\"\n",
    "\n",
    "plt.xticks(rotation=90)\n",
    "sns.barplot(train_x.columns, ada.feature_importances_)\n",
    "plt.show()"
   ]
  },
  {
   "cell_type": "markdown",
   "metadata": {},
   "source": [
    "### Stacked Generalization"
   ]
  },
  {
   "cell_type": "code",
   "execution_count": 52,
   "metadata": {},
   "outputs": [],
   "source": [
    "estimators = [('ridge', RidgeCV()),\n",
    "              ('lasso', LassoCV(random_state=1)),\n",
    "              ('svr', SVR(C=1, gamma=1e-6))]"
   ]
  },
  {
   "cell_type": "code",
   "execution_count": 53,
   "metadata": {},
   "outputs": [],
   "source": [
    "reg = StackingRegressor(estimators=estimators, final_estimator=GradientBoostingRegressor(random_state=1))"
   ]
  },
  {
   "cell_type": "code",
   "execution_count": 54,
   "metadata": {},
   "outputs": [
    {
     "data": {
      "text/plain": [
       "PCA(n_components=5)"
      ]
     },
     "execution_count": 54,
     "metadata": {},
     "output_type": "execute_result"
    }
   ],
   "source": [
    "pca = PCA(n_components=5)\n",
    "pca.fit(new_train_x)"
   ]
  },
  {
   "cell_type": "code",
   "execution_count": 55,
   "metadata": {},
   "outputs": [
    {
     "data": {
      "text/plain": [
       "array([9.47304375e-01, 5.15332280e-02, 1.15806061e-03, 4.32434567e-06,\n",
       "       8.81126456e-09])"
      ]
     },
     "execution_count": 55,
     "metadata": {},
     "output_type": "execute_result"
    }
   ],
   "source": [
    "pca.explained_variance_ratio_"
   ]
  },
  {
   "cell_type": "code",
   "execution_count": null,
   "metadata": {},
   "outputs": [],
   "source": [
    "reg.fit(new_train_x, train_y)\n",
    "print(reg.score(new_train_x, train_y))"
   ]
  },
  {
   "cell_type": "code",
   "execution_count": null,
   "metadata": {},
   "outputs": [],
   "source": [
    "pred = reg.predict(test_x)\n",
    "print(pred)\n",
    "print(mean_squared_error(test_y, pred))"
   ]
  },
  {
   "cell_type": "code",
   "execution_count": null,
   "metadata": {},
   "outputs": [],
   "source": [
    "lr = LinearRegression()\n",
    "lr.fit(new_train_x, train_y)\n",
    "print(lr.score(new_train_x, train_y))\n",
    "pred = lr.predict(test_x)\n",
    "print(mean_squared_error(test_y, pred))"
   ]
  },
  {
   "cell_type": "code",
   "execution_count": null,
   "metadata": {},
   "outputs": [],
   "source": [
    "final_model = rgr"
   ]
  },
  {
   "cell_type": "markdown",
   "metadata": {},
   "source": [
    "### On the HRC Test set"
   ]
  },
  {
   "cell_type": "code",
   "execution_count": null,
   "metadata": {},
   "outputs": [],
   "source": [
    "train_x.columns"
   ]
  },
  {
   "cell_type": "code",
   "execution_count": null,
   "metadata": {},
   "outputs": [],
   "source": [
    "final_hrc_test_data.columns"
   ]
  },
  {
   "cell_type": "code",
   "execution_count": null,
   "metadata": {},
   "outputs": [],
   "source": [
    "final_hrc_test_data['document_create_date.1']=pd.to_datetime(final_hrc_test_data['document_create_date.1'], format='%Y%m%d')\n",
    "final_hrc_test_data['due_in_date'] = pd.to_datetime(final_hrc_test_data['due_in_date'], format='%Y%m%d')\n",
    "final_hrc_test_data['clear_date']=pd.to_datetime(final_hrc_test_data['clear_date'])"
   ]
  },
  {
   "cell_type": "code",
   "execution_count": null,
   "metadata": {},
   "outputs": [],
   "source": [
    "final_hrc_test_data"
   ]
  },
  {
   "cell_type": "code",
   "execution_count": null,
   "metadata": {},
   "outputs": [],
   "source": [
    "final_hrc_test_data['total_days']=final_hrc_test_data['due_in_date']-final_hrc_test_data['document_create_date.1']\n",
    "final_hrc_test_data['total_days'] = final_hrc_test_data['total_days'].dt.days.astype('int16')"
   ]
  },
  {
   "cell_type": "code",
   "execution_count": null,
   "metadata": {},
   "outputs": [],
   "source": [
    "final_hrc_test_data['total_days']"
   ]
  },
  {
   "cell_type": "code",
   "execution_count": null,
   "metadata": {},
   "outputs": [],
   "source": [
    "final_hrc_test_data['document_create_date.1'] = pd.to_datetime(final_hrc_test_data['document_create_date.1'])\n",
    "final_hrc_test_data['doc_create_day'] = final_hrc_test_data['document_create_date.1'].map(lambda x: x.day)\n",
    "final_hrc_test_data['doc_create_month'] = final_hrc_test_data['document_create_date.1'].map(lambda x: x.month)\n",
    "final_hrc_test_data['doc_create_year'] = final_hrc_test_data['document_create_date.1'].map(lambda x: x.year)\n",
    "final_hrc_test_data.drop('document_create_date.1', axis=1, inplace=True)"
   ]
  },
  {
   "cell_type": "code",
   "execution_count": null,
   "metadata": {},
   "outputs": [],
   "source": [
    "final_hrc_test_data.columns"
   ]
  },
  {
   "cell_type": "code",
   "execution_count": null,
   "metadata": {},
   "outputs": [],
   "source": [
    "mapper_month = final_hrc_test_data.groupby('doc_create_month')['total_days'].mean().to_dict()\n",
    "final_hrc_test_data['doc_create_month_encoded'] = final_hrc_test_data.doc_create_month.map(mapper_month)"
   ]
  },
  {
   "cell_type": "code",
   "execution_count": null,
   "metadata": {},
   "outputs": [],
   "source": [
    "mapper_year = final_hrc_test_data.groupby('doc_create_year')['total_days'].mean().to_dict()\n",
    "final_hrc_test_data['doc_create_year_encoded'] = final_hrc_test_data.doc_create_year.map(mapper_year)"
   ]
  },
  {
   "cell_type": "code",
   "execution_count": null,
   "metadata": {},
   "outputs": [],
   "source": [
    "mapper_day = final_hrc_test_data.groupby('doc_create_day')['total_days'].mean().to_dict()\n",
    "final_hrc_test_data['doc_create_day_encoded'] = final_hrc_test_data.doc_create_day.map(mapper_day)"
   ]
  },
  {
   "cell_type": "code",
   "execution_count": null,
   "metadata": {},
   "outputs": [],
   "source": [
    "mapper_pt = final_hrc_test_data.groupby('cust_payment_terms')['total_days'].mean().to_dict()\n",
    "final_hrc_test_data['cust_payment_terms_encoded'] = final_hrc_test_data.cust_payment_terms.map(mapper_pt)"
   ]
  },
  {
   "cell_type": "code",
   "execution_count": null,
   "metadata": {},
   "outputs": [],
   "source": [
    "final_hrc_test_data\n",
    "due_in_date=final_hrc_test_data['due_in_date']"
   ]
  },
  {
   "cell_type": "code",
   "execution_count": null,
   "metadata": {},
   "outputs": [],
   "source": [
    "#Removing the unwanted columns from the final test se\n",
    "cols_to_remove = list(set(final_hrc_test_data.columns) - set(train_x.columns))"
   ]
  },
  {
   "cell_type": "code",
   "execution_count": null,
   "metadata": {},
   "outputs": [],
   "source": [
    "final_test = final_hrc_test_data.drop(cols_to_remove, axis=1)"
   ]
  },
  {
   "cell_type": "code",
   "execution_count": null,
   "metadata": {},
   "outputs": [],
   "source": [
    "# final test_data to predict on\n",
    "final_test.columns"
   ]
  },
  {
   "cell_type": "code",
   "execution_count": null,
   "metadata": {},
   "outputs": [],
   "source": [
    "final_test['days_past_duedate'] = final_model.predict(final_test)"
   ]
  },
  {
   "cell_type": "code",
   "execution_count": null,
   "metadata": {},
   "outputs": [],
   "source": [
    "final_test"
   ]
  },
  {
   "cell_type": "code",
   "execution_count": null,
   "metadata": {},
   "outputs": [],
   "source": []
  }
 ],
 "metadata": {
  "kernelspec": {
   "display_name": "Python 3",
   "language": "python",
   "name": "python3"
  },
  "language_info": {
   "codemirror_mode": {
    "name": "ipython",
    "version": 3
   },
   "file_extension": ".py",
   "mimetype": "text/x-python",
   "name": "python",
   "nbconvert_exporter": "python",
   "pygments_lexer": "ipython3",
   "version": "3.8.3"
  }
 },
 "nbformat": 4,
 "nbformat_minor": 4
}
